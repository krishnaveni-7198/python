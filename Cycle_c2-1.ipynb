{
  "nbformat": 4,
  "nbformat_minor": 0,
  "metadata": {
    "colab": {
      "name": "Cycle-2(1).ipynb",
      "provenance": [],
      "collapsed_sections": [],
      "include_colab_link": true
    },
    "kernelspec": {
      "name": "python3",
      "display_name": "Python 3"
    }
  },
  "cells": [
    {
      "cell_type": "markdown",
      "metadata": {
        "id": "view-in-github",
        "colab_type": "text"
      },
      "source": [
        "<a href=\"https://colab.research.google.com/github/krishnaveni-7198/python/blob/main/Cycle_c2-1.ipynb\" target=\"_parent\"><img src=\"https://colab.research.google.com/assets/colab-badge.svg\" alt=\"Open In Colab\"/></a>"
      ]
    },
    {
      "cell_type": "code",
      "metadata": {
        "colab": {
          "base_uri": "https://localhost:8080/"
        },
        "id": "a2rScUc_PV8K",
        "outputId": "fa30c092-1f9c-4841-adec-ac3ad2757fda"
      },
      "source": [
        "s=int(input(\"enter starting year: \"))\r\n",
        "e=int(input(\"enter ending year: \"))\r\n",
        "print(\"leap years between\",s,\"and\",e)\r\n",
        "while (s<=e):\r\n",
        "    if ((s%400==0) or ((s%4==0) and (s%100!=0))):\r\n",
        "      print(s)\r\n",
        "    s=s+1"
      ],
      "execution_count": null,
      "outputs": [
        {
          "output_type": "stream",
          "text": [
            "enter starting year: 2000\n",
            "enter ending year: 2050\n",
            "leap years between 2000 and 2050\n",
            "2000\n",
            "2004\n",
            "2008\n",
            "2012\n",
            "2016\n",
            "2020\n",
            "2024\n",
            "2028\n",
            "2032\n",
            "2036\n",
            "2040\n",
            "2044\n",
            "2048\n"
          ],
          "name": "stdout"
        }
      ]
    },
    {
      "cell_type": "code",
      "metadata": {
        "id": "NT00rfVcPJUv",
        "colab": {
          "base_uri": "https://localhost:8080/"
        },
        "outputId": "b1ad0adf-5738-4e6d-c7c7-4a8d9d2e6ccc"
      },
      "source": [
        "x=[]\r\n",
        "n=int(input(\"enter list items : \"))\r\n",
        "for i in range(1,n+1):\r\n",
        "    a=int(input(\"enter the value of %d item : \"%i))\r\n",
        "    x.append(a)\r\n",
        "y=[num for num in x if num >= 0]\r\n",
        "print(\"initial list of integers is :\",x) \r\n",
        "print(\"modified list of positive numbers is :\",y) "
      ],
      "execution_count": null,
      "outputs": [
        {
          "output_type": "stream",
          "text": [
            "enter list items : 3\n",
            "enter the value of 1 item : 1\n",
            "enter the value of 2 item : 2\n",
            "enter the value of 3 item : 3\n",
            "initial list of integers is : [1, 2, 3]\n",
            "modified list of positive numbers is : [1, 2, 3]\n"
          ],
          "name": "stdout"
        }
      ]
    },
    {
      "cell_type": "code",
      "metadata": {
        "id": "rgujHKss5jLc",
        "colab": {
          "base_uri": "https://localhost:8080/"
        },
        "outputId": "6cab9e15-bb52-4d0c-a655-b462b6d6cd2f"
      },
      "source": [
        "x=[]\r\n",
        "n=int(input(\"enter list items : \"))\r\n",
        "for i in range(1,n+1):\r\n",
        "    a=int(input(\"enter the value of %d item : \"%i))\r\n",
        "    x.append(a)\r\n",
        "b=(num**2 for num in x)\r\n",
        "print(\"initial list of N numbers :\",x)\r\n",
        "y=list(b)\r\n",
        "print(\"square list of N numbers :\",y)"
      ],
      "execution_count": null,
      "outputs": [
        {
          "output_type": "stream",
          "text": [
            "enter list items : 4\n",
            "enter the value of 1 item : 1\n",
            "enter the value of 2 item : 2\n",
            "enter the value of 3 item : 3\n",
            "enter the value of 4 item : 4\n",
            "initial list of N numbers : [1, 2, 3, 4]\n",
            "square list of N numbers : [1, 4, 9, 16]\n"
          ],
          "name": "stdout"
        }
      ]
    },
    {
      "cell_type": "code",
      "metadata": {
        "colab": {
          "base_uri": "https://localhost:8080/"
        },
        "id": "U-QTYdUri8FV",
        "outputId": "49c80d62-4a4e-40bd-89dc-2393614dc901"
      },
      "source": [
        "w=input(\"enter any word : \")\r\n",
        "v=[l for l in w if l in 'aeiou' ]\r\n",
        "print(\"list of vowels in\",w,\" :\",v)"
      ],
      "execution_count": null,
      "outputs": [
        {
          "output_type": "stream",
          "text": [
            "enter any word : helloworld\n",
            "list of vowels in helloworld  : ['e', 'o', 'o']\n"
          ],
          "name": "stdout"
        }
      ]
    },
    {
      "cell_type": "code",
      "metadata": {
        "colab": {
          "base_uri": "https://localhost:8080/"
        },
        "id": "nZLRrb4Ff0Cz",
        "outputId": "db9eca66-669e-45ad-ef64-d76c7cb11047"
      },
      "source": [
        "w=input(\"enter any word : \")\r\n",
        "for l in range(len(w)) :\r\n",
        "  print(\"ASCII value is\",w[l],\"is\",ord(w[l]))"
      ],
      "execution_count": null,
      "outputs": [
        {
          "output_type": "stream",
          "text": [
            "enter any word : day\n",
            "ASCII value is d is 100\n",
            "ASCII value is a is 97\n",
            "ASCII value is y is 121\n"
          ],
          "name": "stdout"
        }
      ]
    },
    {
      "cell_type": "code",
      "metadata": {
        "colab": {
          "base_uri": "https://localhost:8080/"
        },
        "id": "1VGpyhtRvwo_",
        "outputId": "75da7100-79d7-4a5e-a0a2-9618e86bf42d"
      },
      "source": [
        "def word_count(str):\r\n",
        "    counts = dict()\r\n",
        "    words = str.split()\r\n",
        "    for word in words:\r\n",
        "        if word in counts:\r\n",
        "            counts[word] += 1\r\n",
        "        else:\r\n",
        "            counts[word] = 1\r\n",
        "    return counts\r\n",
        "str=input(\"enter any text :\")\r\n",
        "print(word_count(str))"
      ],
      "execution_count": null,
      "outputs": [
        {
          "output_type": "stream",
          "text": [
            "enter any text :very very good moarning\n",
            "{'very': 2, 'good': 1, 'moarning': 1}\n"
          ],
          "name": "stdout"
        }
      ]
    },
    {
      "cell_type": "code",
      "metadata": {
        "colab": {
          "base_uri": "https://localhost:8080/"
        },
        "id": "9Wj8V_UfpBcH",
        "outputId": "f19d6510-8be2-45a4-c494-f120f2e4f985"
      },
      "source": [
        "x=[]\r\n",
        "n=int(input(\"enter any integers :\"))\r\n",
        "for i in range(1,n+1):\r\n",
        "  a=int(input())\r\n",
        "  if (a>100):\r\n",
        "    x.append('over')\r\n",
        "  else:\r\n",
        "    x.append(a)\r\n",
        "print(\"modified list :\" ,x)"
      ],
      "execution_count": null,
      "outputs": [
        {
          "output_type": "stream",
          "text": [
            "enter any integers :3\n",
            "20\n",
            "101\n",
            "-120\n",
            "modified list : [20, 'over', -120]\n"
          ],
          "name": "stdout"
        }
      ]
    },
    {
      "cell_type": "code",
      "metadata": {
        "colab": {
          "base_uri": "https://localhost:8080/"
        },
        "id": "KKXvpFfNsk9X",
        "outputId": "fef1b286-11aa-4a64-98e9-66ee36e34158"
      },
      "source": [
        "def change(str):\r\n",
        "      return str[-1:] + str[1:-1] + str[:1]\r\n",
        "str=input(\"enter any string : \")\r\n",
        "print(\"modified string : \",change(str))\r\n"
      ],
      "execution_count": null,
      "outputs": [
        {
          "output_type": "stream",
          "text": [
            "enter any string : python\n",
            "modified string :  nythop\n"
          ],
          "name": "stdout"
        }
      ]
    },
    {
      "cell_type": "code",
      "metadata": {
        "colab": {
          "base_uri": "https://localhost:8080/"
        },
        "id": "bb3Trskx5e8K",
        "outputId": "f1f776c5-4e43-4f47-ea9f-baadd7d68d47"
      },
      "source": [
        "r=int(input(\"enter the radius of the circle :\"))\r\n",
        "print(\"area of the circle is :\",3.14*r*r)"
      ],
      "execution_count": null,
      "outputs": [
        {
          "output_type": "stream",
          "text": [
            "enter the radius of the circle :4\n",
            "area of the circle is : 50.24\n"
          ],
          "name": "stdout"
        }
      ]
    },
    {
      "cell_type": "code",
      "metadata": {
        "colab": {
          "base_uri": "https://localhost:8080/"
        },
        "id": "PhzOXm8R-Ejm",
        "outputId": "79ad8e0a-2d46-4eaa-b2f2-a2e7a6a0c5d2"
      },
      "source": [
        "a = float(input(\"enter the first value : \"))\r\n",
        "b = float(input(\"enter the second value : \"))\r\n",
        "c = float(input(\"enter the third value : \"))\r\n",
        "if (a > b and a > c):\r\n",
        "  print(a,\"is bigger than both\",b,\"and\",c)\r\n",
        "elif (b > a and b > c):\r\n",
        "  print(b,\"is bigger than both\",a,\"and\",c)\r\n",
        "elif (c > a and c > b):\r\n",
        "  print(c,\"is bigger than both\",a,\"and\",b)\r\n",
        "else:\r\n",
        "  print(\"either any two values or all the three values are equal\")"
      ],
      "execution_count": null,
      "outputs": [
        {
          "output_type": "stream",
          "text": [
            "enter the first value : 4\n",
            "enter the second value : 9\n",
            "enter the third value : 1\n",
            "9.0 is bigger than both 4.0 and 1.0\n"
          ],
          "name": "stdout"
        }
      ]
    },
    {
      "cell_type": "code",
      "metadata": {
        "colab": {
          "base_uri": "https://localhost:8080/"
        },
        "id": "1YkFFx7NFB1Y",
        "outputId": "909be3d3-7ddf-4e7d-a8ce-36ed102411bb"
      },
      "source": [
        "f=input(\"enter any filename : \")\r\n",
        "x=f.split(\".\")\r\n",
        "print(\"extension of file is\",x[-1])"
      ],
      "execution_count": null,
      "outputs": [
        {
          "output_type": "stream",
          "text": [
            "enter any filename : star.py\n",
            "extension of file is py\n"
          ],
          "name": "stdout"
        }
      ]
    },
    {
      "cell_type": "code",
      "metadata": {
        "colab": {
          "base_uri": "https://localhost:8080/"
        },
        "id": "BpsrFfcsamX-",
        "outputId": "506777f1-b0ea-49f1-e3b7-9328d9e23151"
      },
      "source": [
        "dkk1=input(\"enter first key : \")\r\n",
        "k2=input(\"enter second key : \")\r\n",
        "v1=input(\"enter first value : \")\r\n",
        "v2=input(\"enter second value : \")\r\n",
        "dict1={}\r\n",
        "dict2={}\r\n",
        "dict1[k1]=v1\r\n",
        "dict2[k2]=v2\r\n",
        "def merge_dictionaries(x,y):\r\n",
        "  z = {**x,**y}\r\n",
        "  print(\"merged dictionary is : \")\r\n",
        "  return z\r\n",
        "print(merge_dictionaries(dict1,dict2))"
      ],
      "execution_count": null,
      "outputs": [
        {
          "output_type": "stream",
          "text": [
            "enter first key : cat\n",
            "enter second key : dog\n",
            "enter first value : kitty\n",
            "enter second value : puppy\n",
            "merged dictionary is : \n",
            "{'cat': 'kitty', 'dog': 'puppy'}\n"
          ],
          "name": "stdout"
        }
      ]
    },
    {
      "cell_type": "code",
      "metadata": {
        "colab": {
          "base_uri": "https://localhost:8080/"
        },
        "id": "Bh4Bu8i4hTPZ",
        "outputId": "db26013d-aab4-4209-82bd-065d00003bfb"
      },
      "source": [
        "n1=float(input(\"enter the first value : \"))\r\n",
        "n2=float(input(\"enter the second value : \"))\r\n",
        "x=n1\r\n",
        "y=n2\r\n",
        "while (n2 != 0):\r\n",
        "  temp=n2\r\n",
        "  n2=n1%n2\r\n",
        "  n1=temp\r\n",
        "gcd=n1   \r\n",
        "print(\"GCD of\",x,\"and\",y,\"is\",gcd)"
      ],
      "execution_count": null,
      "outputs": [
        {
          "output_type": "stream",
          "text": [
            "enter the first value : 12\n",
            "enter the second value : 36\n",
            "GCD of 12.0 and 36.0 is 12.0\n"
          ],
          "name": "stdout"
        }
      ]
    },
    {
      "cell_type": "code",
      "metadata": {
        "colab": {
          "base_uri": "https://localhost:8080/"
        },
        "id": "z4FM2D1CdqgH",
        "outputId": "0f3c3f7e-60fe-47e3-d818-09d3706e154d"
      },
      "source": [
        "x=[]\r\n",
        "n=int(input(\"enter list items : \"))\r\n",
        "for i in range(1,n+1):\r\n",
        "    a=int(input(\"enter the value of %d item : \"%i))\r\n",
        "    x.append(a)\r\n",
        "for i  in x:\r\n",
        "  if (i%2 == 0):\r\n",
        "    x.remove(i)\r\n",
        "print(\"modified list after removing even numbers :\")\r\n",
        "print(x)"
      ],
      "execution_count": null,
      "outputs": [
        {
          "output_type": "stream",
          "text": [
            "enter list items : 3\n",
            "enter the value of 1 item : -5\n",
            "enter the value of 2 item : 10\n",
            "enter the value of 3 item : 5\n",
            "modified list after removing even numbers :\n",
            "[-5, 5]\n"
          ],
          "name": "stdout"
        }
      ]
    }
  ]
}