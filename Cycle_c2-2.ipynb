{
  "nbformat": 4,
  "nbformat_minor": 0,
  "metadata": {
    "colab": {
      "name": "Cycle-2(2).ipynb",
      "provenance": [],
      "collapsed_sections": [],
      "include_colab_link": true
    },
    "kernelspec": {
      "name": "python3",
      "display_name": "Python 3"
    }
  },
  "cells": [
    {
      "cell_type": "markdown",
      "metadata": {
        "id": "view-in-github",
        "colab_type": "text"
      },
      "source": [
        "<a href=\"https://colab.research.google.com/github/krishnaveni-7198/python/blob/main/Cycle_c2-2.ipynb\" target=\"_parent\"><img src=\"https://colab.research.google.com/assets/colab-badge.svg\" alt=\"Open In Colab\"/></a>"
      ]
    },
    {
      "cell_type": "code",
      "metadata": {
        "colab": {
          "base_uri": "https://localhost:8080/"
        },
        "id": "wD_Fp7PhIhwi",
        "outputId": "103be555-b6bc-4ac8-9410-27398d7a33c5"
      },
      "source": [
        "k1=input(\"enter first key : \")\n",
        "k2=input(\"enter second key : \")\n",
        "k3=input(\"enter third key : \")\n",
        "k4=input(\"enter fourth key : \")\n",
        "k5=input(\"enter fifth key : \")\n",
        "v1=input(\"enter first value : \")\n",
        "v2=input(\"enter second value : \")\n",
        "v3=input(\"enter third value : \")\n",
        "v4=input(\"enter fourth value : \")\n",
        "v5=input(\"enter fifth value : \")\n",
        "d={}\n",
        "d[k1]=v1\n",
        "d[k2]=v2\n",
        "d[k3]=v3\n",
        "d[k4]=v4\n",
        "d[k5]=v5\n",
        "l=list(d.items())   \n",
        "l.sort() \n",
        "print(\"ascending order is : \",l)\n",
        "l=list(d.items())\n",
        "l.sort(reverse = True)\n",
        "print(\"descending order is : \",l)"
      ],
      "execution_count": null,
      "outputs": [
        {
          "output_type": "stream",
          "text": [
            "enter first key : 1\n",
            "enter second key : 4\n",
            "enter third key : 3\n",
            "enter fourth key : 5\n",
            "enter fifth key : 2\n",
            "enter first value : apple\n",
            "enter second value : orange\n",
            "enter third value : grape\n",
            "enter fourth value : mango\n",
            "enter fifth value : lemon\n",
            "ascending order is :  [('1', 'apple'), ('2', 'lemon'), ('3', 'grape'), ('4', 'orange'), ('5', 'mango')]\n",
            "descending order is :  [('5', 'mango'), ('4', 'orange'), ('3', 'grape'), ('2', 'lemon'), ('1', 'apple')]\n"
          ],
          "name": "stdout"
        }
      ]
    },
    {
      "cell_type": "code",
      "metadata": {
        "colab": {
          "base_uri": "https://localhost:8080/"
        },
        "id": "kEUml1xm8GEz",
        "outputId": "b7fba266-e36f-420e-8369-a0dbf8fa08fb"
      },
      "source": [
        "x=input(\"enter the first string : \")\r\n",
        "y=input(\"enter the second string : \")\r\n",
        "def swapch(x,y): \r\n",
        "  a = y[:1] + x[1:]\r\n",
        "  b = x[:1] + y[1:]\r\n",
        "  return a + ' ' + b\r\n",
        "print(swapch(x,y))"
      ],
      "execution_count": 2,
      "outputs": [
        {
          "output_type": "stream",
          "text": [
            "enter the first string : drop\n",
            "enter the second string : water\n",
            "wrop dater\n"
          ],
          "name": "stdout"
        }
      ]
    },
    {
      "cell_type": "code",
      "metadata": {
        "colab": {
          "base_uri": "https://localhost:8080/"
        },
        "id": "FZNwNYa1OXCy",
        "outputId": "3e3b3be1-9fb7-4b64-8e77-aa84684dbf1a"
      },
      "source": [
        "gc1=[]\r\n",
        "x=int(input(\"enter limit for list1 :\"))\r\n",
        "for i in range(1,x+1):\r\n",
        "  a=input()\r\n",
        "  c1.append(a)\r\n",
        "  p=set(c1)\r\n",
        "print(p)\r\n",
        "c2=[]\r\n",
        "y=int(input(\"enter limit for list2 : \"))\r\n",
        "for i in range(1,y+1):\r\n",
        "  b=input()\r\n",
        "  c2.append(b)\r\n",
        "  q=set(c2)\r\n",
        "print(q)\r\n",
        "print(p.difference(q))"
      ],
      "execution_count": 3,
      "outputs": [
        {
          "output_type": "stream",
          "text": [
            "enter limit for list1 :2\n",
            "red\n",
            "green\n",
            "{'green', 'red'}\n",
            "enter limit for list2 : 3\n",
            "yellow\n",
            "red\n",
            "green\n",
            "{'yellow', 'green', 'red'}\n",
            "set()\n"
          ],
          "name": "stdout"
        }
      ]
    },
    {
      "cell_type": "code",
      "metadata": {
        "colab": {
          "base_uri": "https://localhost:8080/"
        },
        "id": "hgn6FiZdYp9u",
        "outputId": "9a58251d-eda0-41d3-c2b6-8d8d256abc7f"
      },
      "source": [
        "a=int(input(\"enter any integer : \"))\r\n",
        "n1=int(\"%s\" %a)\r\n",
        "n2=int(\"%s%s\" %(a,a))\r\n",
        "n3=int(\"%s%s%s\" %(a,a,a))\r\n",
        "print(\"value of n+nn+nnn is : \",n1+n2+n3)"
      ],
      "execution_count": 4,
      "outputs": [
        {
          "output_type": "stream",
          "text": [
            "enter any integer : 2\n",
            "value of n+nn+nnn is :  246\n"
          ],
          "name": "stdout"
        }
      ]
    },
    {
      "cell_type": "code",
      "metadata": {
        "colab": {
          "base_uri": "https://localhost:8080/"
        },
        "id": "ay_JmWrkalV3",
        "outputId": "598d2e8d-c48f-4b91-f0fb-beda9f3d7cc7"
      },
      "source": [
        "c=[]\r\n",
        "x=int(input(\"enter limit for list : \"))\r\n",
        "for i in range(1,x+1):\r\n",
        "  a=input()\r\n",
        "  c.append(a)\r\n",
        "print(c)\r\n",
        "print(c[0],c[-1])"
      ],
      "execution_count": 5,
      "outputs": [
        {
          "output_type": "stream",
          "text": [
            "enter limit for list : 4\n",
            "yellow\n",
            "red\n",
            "green\n",
            "orange\n",
            "['yellow', 'red', 'green', 'orange']\n",
            "yellow orange\n"
          ],
          "name": "stdout"
        }
      ]
    },
    {
      "cell_type": "code",
      "metadata": {
        "colab": {
          "base_uri": "https://localhost:8080/"
        },
        "id": "ArJl2I6Od8Bg",
        "outputId": "2998b952-740e-437a-8180-931118b910fa"
      },
      "source": [
        "str=input(\"enter any string : \")\r\n",
        "def rep_ch(str1):\r\n",
        "  char=str1[0]\r\n",
        "  str1=str1.replace(char, '$')\r\n",
        "  str1=char+str1[1:]\r\n",
        "  return str1\r\n",
        "print(rep_ch(str))"
      ],
      "execution_count": 6,
      "outputs": [
        {
          "output_type": "stream",
          "text": [
            "enter any string : mobile\n",
            "mobile\n"
          ],
          "name": "stdout"
        }
      ]
    },
    {
      "cell_type": "code",
      "metadata": {
        "colab": {
          "base_uri": "https://localhost:8080/"
        },
        "id": "aCb03Harg0uC",
        "outputId": "d72fdb52-c5be-4a17-e8cb-8cac95ace422"
      },
      "source": [
        "x=[]\r\n",
        "a=int(input(\"enter limit for list1 : \"))\r\n",
        "for i in range(1,a+1):\r\n",
        "  a=int(input())\r\n",
        "  x.append(a)\r\n",
        "print(x)\r\n",
        "y=[]\r\n",
        "b=int(input(\"enter limit for list2 : \"))\r\n",
        "for i in range(1,b+1):\r\n",
        "  b=int(input())\r\n",
        "  y.append(b)\r\n",
        "print(y)\r\n",
        "if (len(x)==len(y)):\r\n",
        "  print(\"list1 and list2 are of same length i.e.\",len(x))\r\n",
        "else:\r\n",
        "  print(\"list1 and list2 are of different length.\")\r\n",
        "if (sum(x)==sum(y)):\r\n",
        "  print(\"list1 and list2 sums to the same value i.e.\",sum(x))\r\n",
        "else:\r\n",
        "  print(\"list1 and list2 sums up to different values.\")\r\n",
        "def common(x, y): \r\n",
        "    p=set(x) \r\n",
        "    q=set(y) \r\n",
        "    if len(p.intersection(q)) > 0: \r\n",
        "        return(p.intersection(q))   \r\n",
        "    else: \r\n",
        "        return(\"no common elements\")  \r\n",
        "print(\"value that occur in both lists is/are :\",common(x,y)) "
      ],
      "execution_count": 7,
      "outputs": [
        {
          "output_type": "stream",
          "text": [
            "enter limit for list1 : 3\n",
            "2\n",
            "4\n",
            "6\n",
            "[2, 4, 6]\n",
            "enter limit for list2 : 3\n",
            "3\n",
            "6\n",
            "9\n",
            "[3, 6, 9]\n",
            "list1 and list2 are of same length i.e. 3\n",
            "list1 and list2 sums up to different values.\n",
            "value that occur in both lists is/are : {6}\n"
          ],
          "name": "stdout"
        }
      ]
    },
    {
      "cell_type": "code",
      "metadata": {
        "colab": {
          "base_uri": "https://localhost:8080/"
        },
        "id": "qLLDsvqu9SwD",
        "outputId": "6494a38f-35e6-4512-de93-85a0dc41bdaf"
      },
      "source": [
        "l=[]\r\n",
        "x=int(input(\"enter the limit : \"))\r\n",
        "for i in range (1,x+1):\r\n",
        "  x=input(\"enter the first name : \")\r\n",
        "  l.append(x)\r\n",
        "  count = x.count('a')\r\n",
        "  print(\"number of time a is present in name:\",count)"
      ],
      "execution_count": 9,
      "outputs": [
        {
          "output_type": "stream",
          "text": [
            "enter the limit : 3\n",
            "enter the first name : ashna\n",
            "number of time a is present in name: 2\n",
            "enter the first name : alphonse\n",
            "number of time a is present in name: 1\n",
            "enter the first name : arjun\n",
            "number of time a is present in name: 1\n"
          ],
          "name": "stdout"
        }
      ]
    },
    {
      "cell_type": "code",
      "metadata": {
        "colab": {
          "base_uri": "https://localhost:8080/"
        },
        "id": "8YMaELPCf0Ux",
        "outputId": "a659d7de-0714-4dd8-fad3-7aaac57f47f2"
      },
      "source": [
        "n=input(\"enter your house number : \")\r\n",
        "hname=input(\"enter your house name : \")\r\n",
        "s=input(\"enter your street name : \")\r\n",
        "t=input(\"enter your town/city : \")\r\n",
        "d=input(\"enter your district : \")\r\n",
        "state=input(\"enter your state : \")\r\n",
        "county=input(\"enter your county : \")\r\n",
        "pin=int(input(\"enter your postcode: \"))\r\n",
        "print(\"\\nAddress Details :\\n\" + \"\\nHousenumber :\",n,\"\\nHouse :\",hname,\"\\nStreet : \",s,\"\\nTown/City : \",t,\"\\nDistrict : \",d,\"\\nState : \",state,\"\\nCounty : \",county,\"\\nPostcode : \",pin)"
      ],
      "execution_count": 11,
      "outputs": [
        {
          "output_type": "stream",
          "text": [
            "enter your house number : 9/102\n",
            "enter your house name : palace\n",
            "enter your street name : bolgatty\n",
            "enter your town/city : kottayam\n",
            "enter your district : kerala\n",
            "enter your state : india\n",
            "enter your county : milkyway\n",
            "enter your postcode: 1234321\n",
            "\n",
            "Address Details :\n",
            "\n",
            "Housenumber : 9/102 \n",
            "House : palace \n",
            "Street :  bolgatty \n",
            "Town/City :  kottayam \n",
            "District :  kerala \n",
            "State :  india \n",
            "County :  milkyway \n",
            "Postcode :  1234321\n"
          ],
          "name": "stdout"
        }
      ]
    }
  ]
}