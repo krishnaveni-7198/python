{
  "nbformat": 4,
  "nbformat_minor": 0,
  "metadata": {
    "colab": {
      "name": "PythonC2.ipynb",
      "provenance": [],
      "collapsed_sections": [],
      "include_colab_link": true
    },
    "kernelspec": {
      "name": "python3",
      "display_name": "Python 3"
    }
  },
  "cells": [
    {
      "cell_type": "markdown",
      "metadata": {
        "id": "view-in-github",
        "colab_type": "text"
      },
      "source": [
        "<a href=\"https://colab.research.google.com/github/krishnaveni-7198/python/blob/main/PythonC2.ipynb\" target=\"_parent\"><img src=\"https://colab.research.google.com/assets/colab-badge.svg\" alt=\"Open In Colab\"/></a>"
      ]
    },
    {
      "cell_type": "code",
      "metadata": {
        "id": "DgjisPzdnJg0",
        "colab": {
          "base_uri": "https://localhost:8080/"
        },
        "outputId": "4dea3602-9809-432e-938d-0b37e210b0ec"
      },
      "source": [
        "#2 Display future leap years from current year to a final year entered by user\r\n",
        "y = int(input(\"Enter the final year : \"))\r\n",
        "print(\"Future leap years from 2021 : \")\r\n",
        "for x in range (2021 , y+1):\r\n",
        " if((x%4==0) and (x%100!=0)) or (x%400==0):\r\n",
        "   print(x)"
      ],
      "execution_count": null,
      "outputs": [
        {
          "output_type": "stream",
          "text": [
            "Enter the final year : 2030\n",
            "Future leap years from 2021 : \n",
            "2024\n",
            "2028\n"
          ],
          "name": "stdout"
        }
      ]
    },
    {
      "cell_type": "code",
      "metadata": {
        "id": "WEUaYCVSpI-Z",
        "colab": {
          "base_uri": "https://localhost:8080/"
        },
        "outputId": "47ff7abb-c7b3-4233-e00f-e62c90042202"
      },
      "source": [
        "#3a Generate positive list of numbers from a given list of integers\r\n",
        "mylist=[23 , 58 , -12 , 90 , -45 , 81 , 49 , -36] \r\n",
        "print(\"First list : \", mylist)\r\n",
        "newlist=[x for x in mylist if x > 0]\r\n",
        "print(\"New list : \" ,newlist)"
      ],
      "execution_count": null,
      "outputs": [
        {
          "output_type": "stream",
          "text": [
            "First list :  [23, 58, -12, 90, -45, 81, 49, -36]\n",
            "New list :  [23, 58, 90, 81, 49]\n"
          ],
          "name": "stdout"
        }
      ]
    },
    {
      "cell_type": "code",
      "metadata": {
        "id": "jqv59N2G8Uq5",
        "colab": {
          "base_uri": "https://localhost:8080/"
        },
        "outputId": "026239f9-8780-4496-f9dd-b247e0aba519"
      },
      "source": [
        "#3b Square of N numbers\r\n",
        "mylist=[2 ,5 , 3 , 8]\r\n",
        "print(\"First list : \" ,mylist)\r\n",
        "newlist=[number ** 2 for number in mylist]\r\n",
        "print(\"New list : \" ,newlist)"
      ],
      "execution_count": null,
      "outputs": [
        {
          "output_type": "stream",
          "text": [
            "First list :  [2, 5, 3, 8]\n",
            "New list :  [4, 25, 9, 64]\n"
          ],
          "name": "stdout"
        }
      ]
    },
    {
      "cell_type": "code",
      "metadata": {
        "colab": {
          "base_uri": "https://localhost:8080/"
        },
        "id": "D3QDNwDoVWaP",
        "outputId": "9d22a6ec-592a-4574-ff2d-91be0afebc09"
      },
      "source": [
        "#9 Create a string from given string where first and last characters exchanged\r\n",
        "a=input(\"Enter a string : \")\r\n",
        "print(\"New string : \")\r\n",
        "print(a[-1:] + a[1:-1] + a[0])"
      ],
      "execution_count": null,
      "outputs": [
        {
          "output_type": "stream",
          "text": [
            "Enter a string : python\n",
            "New string : \n",
            "nythop\n"
          ],
          "name": "stdout"
        }
      ]
    },
    {
      "cell_type": "code",
      "metadata": {
        "colab": {
          "base_uri": "https://localhost:8080/"
        },
        "id": "bzbe0Op0QkKU",
        "outputId": "b16ebf68-32b1-4466-e4c8-f893a6445cb5"
      },
      "source": [
        "#10 Accept the radius from user and find area of circle\r\n",
        "r=float(input(\"Enter radius of circle : \"))\r\n",
        "pi=3.14\r\n",
        "area= pi * r * r\r\n",
        "print(\"Area = \" ,area)"
      ],
      "execution_count": null,
      "outputs": [
        {
          "output_type": "stream",
          "text": [
            "Enter radius of circle : 2\n",
            "Area =  12.56\n"
          ],
          "name": "stdout"
        }
      ]
    },
    {
      "cell_type": "code",
      "metadata": {
        "id": "z0k1o1UGSjPm",
        "colab": {
          "base_uri": "https://localhost:8080/"
        },
        "outputId": "c66f77a4-86ac-468f-acf5-c14b1887d813"
      },
      "source": [
        "#11 Find biggest of three numbers entered\r\n",
        "a = float(input(\"Enter first number : \"))\r\n",
        "b = float(input(\"Enter second number : \"))\r\n",
        "c = float(input(\"Enter third number : \"))\r\n",
        " \r\n",
        "if (a > b) and (a > c):\r\n",
        "   largest = a\r\n",
        "elif (b > a) and (b > c):\r\n",
        "   largest = b\r\n",
        "else:\r\n",
        "   largest = c\r\n",
        " \r\n",
        "print(\"The largest number is\",largest)"
      ],
      "execution_count": null,
      "outputs": [
        {
          "output_type": "stream",
          "text": [
            "Enter first number : 41.5\n",
            "Enter second number : 21\n",
            "Enter third number : 25\n",
            "The largest number is 41.5\n"
          ],
          "name": "stdout"
        }
      ]
    },
    {
      "cell_type": "code",
      "metadata": {
        "colab": {
          "base_uri": "https://localhost:8080/"
        },
        "id": "zUxlVGVNUGr_",
        "outputId": "451d8be9-0174-43e2-c43e-13f9fc681b91"
      },
      "source": [
        "-#12 Accept a file name from user and print extension of that\r\n",
        "filename = input(\"Enter the Filename : \")\r\n",
        "f_extns = filename.split(\".\")\r\n",
        "print (\"The extension of the file is : \" + repr(f_extns[-1]))"
      ],
      "execution_count": null,
      "outputs": [
        {
          "output_type": "stream",
          "text": [
            "Enter the Filename : sort.html\n",
            "The extension of the file is : 'html'\n"
          ],
          "name": "stdout"
        }
      ]
    },
    {
      "cell_type": "code",
      "metadata": {
        "colab": {
          "base_uri": "https://localhost:8080/"
        },
        "id": "SJDmfQ115YIv",
        "outputId": "dbd9fc33-880d-4d17-ad6d-1e25f9821a71"
      },
      "source": [
        "#18 Merge two dictionaries\r\n",
        "dict1 = {\"a\":100 ,\"b\":200}\r\n",
        "dict2 = {\"x\":300 ,\"y\":400}\r\n",
        "newdict = dict1.copy()\r\n",
        "newdict.update(dict2)\r\n",
        "print(\"Merged dictionary : \" , newdict)"
      ],
      "execution_count": null,
      "outputs": [
        {
          "output_type": "stream",
          "text": [
            "Merged dictionary :  {'a': 100, 'b': 200, 'x': 300, 'y': 400}\n"
          ],
          "name": "stdout"
        }
      ]
    },
    {
      "cell_type": "code",
      "metadata": {
        "colab": {
          "base_uri": "https://localhost:8080/"
        },
        "id": "6eSeJTwSubdB",
        "outputId": "3756956a-9007-4667-9117-66f1d4803f55"
      },
      "source": [
        "#19 Find gcd of two numbers\r\n",
        "a = int(input(\"Enter 1st number: \"))\r\n",
        "b = int(input(\"Enter 2nd number: \"))\r\n",
        "i = 1\r\n",
        "while(i <= a and i <= b):\r\n",
        "  if(a % i == 0 and b % i == 0):\r\n",
        "    gcd = i\r\n",
        "  i = i + 1\r\n",
        "print(\"GCD is\", gcd)"
      ],
      "execution_count": null,
      "outputs": [
        {
          "output_type": "stream",
          "text": [
            "Enter 1st number: 60\n",
            "Enter 2nd number: 48\n",
            "GCD is 12\n"
          ],
          "name": "stdout"
        }
      ]
    },
    {
      "cell_type": "code",
      "metadata": {
        "colab": {
          "base_uri": "https://localhost:8080/"
        },
        "id": "H_W8WtKq7-vr",
        "outputId": "4acbd173-08b6-4550-8b42-4e1a48971e03"
      },
      "source": [
        "#20 From a list of integers ,create a new list removing even numbers\r\n",
        "list = [11, 22, 33, 44, 55]\r\n",
        "print(\"Original list : \" , list)\r\n",
        "for i  in list:\r\n",
        "\tif(i%2 == 0):\r\n",
        "\t    list.remove(i)\r\n",
        "print(\"List after removing EVEN numbers : \" , list)"
      ],
      "execution_count": null,
      "outputs": [
        {
          "output_type": "stream",
          "text": [
            "Original list :  [11, 22, 33, 44, 55]\n",
            "List after removing EVEN numbers :  [11, 33, 55]\n"
          ],
          "name": "stdout"
        }
      ]
    }
  ]
}