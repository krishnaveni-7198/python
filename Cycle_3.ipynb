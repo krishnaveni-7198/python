{
  "nbformat": 4,
  "nbformat_minor": 0,
  "metadata": {
    "colab": {
      "name": "Cycle-3.ipynb",
      "provenance": [],
      "collapsed_sections": [],
      "include_colab_link": true
    },
    "kernelspec": {
      "name": "python3",
      "display_name": "Python 3"
    }
  },
  "cells": [
    {
      "cell_type": "markdown",
      "metadata": {
        "id": "view-in-github",
        "colab_type": "text"
      },
      "source": [
        "<a href=\"https://colab.research.google.com/github/krishnaveni-7198/python/blob/main/Cycle_3.ipynb\" target=\"_parent\"><img src=\"https://colab.research.google.com/assets/colab-badge.svg\" alt=\"Open In Colab\"/></a>"
      ]
    },
    {
      "cell_type": "code",
      "metadata": {
        "colab": {
          "base_uri": "https://localhost:8080/"
        },
        "id": "SOkocDzkNrsd",
        "outputId": "220fd5e3-795d-4921-a29e-aa728e5161f3"
      },
      "source": [
        "#1) Program to find the factorial of a number in python.\r\n",
        "\r\n",
        "n=int(input(\"enter any number : \"))\r\n",
        "fact=1\r\n",
        "i=1\r\n",
        "while i<=n:\r\n",
        "\tfact=fact*i\r\n",
        "\ti=i+1\r\n",
        "print(\"factorial of\",n,\"is\",fact)"
      ],
      "execution_count": null,
      "outputs": [
        {
          "output_type": "stream",
          "text": [
            "enter any number : 4\n",
            "factorial of 4 is 24\n"
          ],
          "name": "stdout"
        }
      ]
    },
    {
      "cell_type": "code",
      "metadata": {
        "id": "gZBlaXRsRkCA",
        "colab": {
          "base_uri": "https://localhost:8080/"
        },
        "outputId": "5032f934-64ef-4b0c-8a11-a7254fdd6e0c"
      },
      "source": [
        "#2) Generate Fibonacci series of N terms.\r\n",
        "\r\n",
        "n=int(input(\"enter the value of n : \"))\r\n",
        "a=0\r\n",
        "b=1\r\n",
        "sum=0\r\n",
        "count=1\r\n",
        "print(\"fibonacci series : \")\r\n",
        "while (count<=n):\r\n",
        "  print(sum,end=\" \")\r\n",
        "  count+=1\r\n",
        "  a=b\r\n",
        "  b=sum\r\n",
        "  sum=a+b"
      ],
      "execution_count": null,
      "outputs": [
        {
          "output_type": "stream",
          "text": [
            "enter the value of n : 5\n",
            "fibonacci series : \n",
            "0 1 1 2 3 "
          ],
          "name": "stdout"
        }
      ]
    },
    {
      "cell_type": "code",
      "metadata": {
        "id": "djVCsVLjy4_C"
      },
      "source": [
        "#3) Find the sum of all items in a list .\r\n",
        "\r\n",
        "n=[]\r\n",
        "x=int(input(\"Enter the limit of list elements: \"))\r\n",
        "for i in range(1,x+1):\r\n",
        "  a=int(input())\r\n",
        "  n.append(a)\r\n",
        "t=sum(n)\r\n",
        "print(\"Sum of all elements in this list is : \",t)"
      ],
      "execution_count": null,
      "outputs": []
    },
    {
      "cell_type": "code",
      "metadata": {
        "colab": {
          "base_uri": "https://localhost:8080/"
        },
        "id": "DV1A_UUrWaoD",
        "outputId": "348be354-9098-488f-9830-347cd03b0f62"
      },
      "source": [
        "#4) Generate a list of four digit numbers in a given range with all their digits even and the number is a perfect square.\r\n",
        "\r\n",
        "for i in range(1000,10000):\r\n",
        "  for j in range(32,100):\r\n",
        "    if i==j*j:\r\n",
        "      a=str(i)\r\n",
        "      if (int(a[0])%2==0 and int(a[1])%2==0 and int(a[2])%2==0 and int(a[3])%2==0):\r\n",
        "        print(i)"
      ],
      "execution_count": null,
      "outputs": [
        {
          "output_type": "stream",
          "text": [
            "4624\n",
            "6084\n",
            "6400\n",
            "8464\n"
          ],
          "name": "stdout"
        }
      ]
    },
    {
      "cell_type": "code",
      "metadata": {
        "colab": {
          "base_uri": "https://localhost:8080/"
        },
        "id": "IUZOy5GJO4Id",
        "outputId": "bf2a3cf7-5380-49df-8236-898d3372a61c"
      },
      "source": [
        "#5) Display the given pyramid with step number accepted from user. Eg: N=4 \r\n",
        "\r\n",
        "def py(n):\r\n",
        "  x=1\r\n",
        "  for i in range(1, n+1):\r\n",
        "    for j in range(1, i+1):\r\n",
        "      print(x, end=\" \")\r\n",
        "      x=x+i\r\n",
        "    x=i+1\r\n",
        "    print(\"\\r\")\r\n",
        " \r\n",
        "n=int(input(\"enter the limit : \"))\r\n",
        "py(n)"
      ],
      "execution_count": null,
      "outputs": [
        {
          "output_type": "stream",
          "text": [
            "enter the limit : 4\n",
            "1 \n",
            "2 4 \n",
            "3 6 9 \n",
            "4 8 12 16 \n"
          ],
          "name": "stdout"
        }
      ]
    },
    {
      "cell_type": "code",
      "metadata": {
        "colab": {
          "base_uri": "https://localhost:8080/"
        },
        "id": "Xs9jJkcb8I5c",
        "outputId": "2e13ae86-fb49-4738-898d-3f41eec071ab"
      },
      "source": [
        "#6) Count the number of characters (character frequency) in a string. \r\n",
        "\r\n",
        "def freq(s):\r\n",
        "  s=s.lower()\r\n",
        "  dict={}\r\n",
        "  for ch in s :\r\n",
        "    keys = dict.keys()\r\n",
        "    if ch in keys :\r\n",
        "      dict[ch]+=1\r\n",
        "    else:\r\n",
        "      dict[ch]=1\r\n",
        "  return dict\r\n",
        "s=input(\"enter any string : \")\r\n",
        "print(\"the character frequency of the given string\",s,\"are :\")\r\n",
        "print(freq(s))"
      ],
      "execution_count": null,
      "outputs": [
        {
          "output_type": "stream",
          "text": [
            "enter any string : successfully\n",
            "the character frequency of the given string successfully are :\n",
            "{'s': 3, 'u': 2, 'c': 2, 'e': 1, 'f': 1, 'l': 2, 'y': 1}\n"
          ],
          "name": "stdout"
        }
      ]
    },
    {
      "cell_type": "code",
      "metadata": {
        "colab": {
          "base_uri": "https://localhost:8080/"
        },
        "id": "wHmOkIaqG2VB",
        "outputId": "5dc0fbcd-c442-4032-e235-ead857086fe1"
      },
      "source": [
        "#7) Add ‘ing’ at the end of a given string. If it already ends with ‘ing’, then add ‘ly’.\r\n",
        "\r\n",
        "s=input(\"enter any string : \")\r\n",
        "if s.endswith(\"ing\") :\r\n",
        "  s+=\"ly\"\r\n",
        "else :\r\n",
        "  s+=\"ing\"\r\n",
        "print(\"modified string : \",s)"
      ],
      "execution_count": null,
      "outputs": [
        {
          "output_type": "stream",
          "text": [
            "enter any string : surprising\n",
            "modified string :  surprisingly\n"
          ],
          "name": "stdout"
        }
      ]
    },
    {
      "cell_type": "code",
      "metadata": {
        "colab": {
          "base_uri": "https://localhost:8080/"
        },
        "id": "2Fm0RNMSpb5m",
        "outputId": "4aa0d936-0c09-48ef-8ce8-94f85cd9e7c4"
      },
      "source": [
        "#8) Accept a list of words and return length of longest word. \r\n",
        "\r\n",
        "l=[]\r\n",
        "n= int(input(\"enter the number of elements in list : \"))\r\n",
        "for i in range(1,n+1):\r\n",
        "    x=input()\r\n",
        "    l.append(x)\r\n",
        "max=len(l[0])\r\n",
        "temp=l[0]\r\n",
        "for j in l:\r\n",
        "    if(len(j)>max):\r\n",
        "       max=len(j)\r\n",
        "       temp=j\r\n",
        "print(\"the word with the longest length is :\",temp)"
      ],
      "execution_count": null,
      "outputs": [
        {
          "output_type": "stream",
          "text": [
            "enter the number of elements in list : 3\n",
            "tom\n",
            "jerry\n",
            "cat\n",
            "the word with the longest length is : jerry\n"
          ],
          "name": "stdout"
        }
      ]
    },
    {
      "cell_type": "code",
      "metadata": {
        "colab": {
          "base_uri": "https://localhost:8080/"
        },
        "id": "Cjo1yggTkD1b",
        "outputId": "f3439233-1789-4547-c117-298f244df227"
      },
      "source": [
        "#9) Construct following pattern using nested loop \r\n",
        "\r\n",
        "for i in range(5):\r\n",
        "  for j in range(i+1):\r\n",
        "    print(\"* \",end=\" \")\r\n",
        "  print()\r\n",
        "for i in range(4):\r\n",
        "  for j in range(i, 4):\r\n",
        "    print(\"* \",end=\" \")\r\n",
        "  print()"
      ],
      "execution_count": null,
      "outputs": [
        {
          "output_type": "stream",
          "text": [
            "*  \n",
            "*  *  \n",
            "*  *  *  \n",
            "*  *  *  *  \n",
            "*  *  *  *  *  \n",
            "*  *  *  *  \n",
            "*  *  *  \n",
            "*  *  \n",
            "*  \n"
          ],
          "name": "stdout"
        }
      ]
    },
    {
      "cell_type": "code",
      "metadata": {
        "colab": {
          "base_uri": "https://localhost:8080/"
        },
        "id": "RmpIB-21Ug9G",
        "outputId": "23f1f490-48d1-40c5-ed29-a30535d40bab"
      },
      "source": [
        "#10) Generate all factors of a number. \r\n",
        "\r\n",
        "n=int(input(\"enter any number : \"))\r\n",
        "i=1\r\n",
        "print(\"all factors of\",n,\"are :\")\r\n",
        "while i<=n:\r\n",
        "  if n%i==0:\r\n",
        "    print(i)\r\n",
        "  i=i+1"
      ],
      "execution_count": null,
      "outputs": [
        {
          "output_type": "stream",
          "text": [
            "enter any number : 12\n",
            "all factors of 12 are :\n",
            "1\n",
            "2\n",
            "3\n",
            "4\n",
            "6\n",
            "12\n"
          ],
          "name": "stdout"
        }
      ]
    },
    {
      "cell_type": "code",
      "metadata": {
        "id": "B44oS_OcPD7P",
        "colab": {
          "base_uri": "https://localhost:8080/"
        },
        "outputId": "eb4a73c1-78e1-4b07-a288-5a271d04fb3a"
      },
      "source": [
        " #11) Write lambda functions to find area of square, rectangle and triangle.\r\n",
        "\r\n",
        "a=int(input(\"enter the side of square : \"))\r\n",
        "sq_area=lambda a:a**2\r\n",
        "print(\"area of the square is : \",sq_area(a))\r\n",
        "l=int(input(\"enter length : \"))\r\n",
        "w=int(input(\"enter width : \"))\r\n",
        "rect_area=lambda l,w : l*w\r\n",
        "print(\"area of the rectangle is : \",rect_area(l,w))\r\n",
        "a=int(input(\"enter the value of first side : \"))\r\n",
        "b=int(input(\"enter the value of second side : \"))\r\n",
        "c=int(input(\"enter the value of third side : \"))\r\n",
        "s=(a+b+c)/2\r\n",
        "t_area=lambda s,a,b,c : (s*(s-a)*(s-b)*(s-c))**0.5\r\n",
        "print(\"area of triangle :\",t_area(s,a,b,c))"
      ],
      "execution_count": null,
      "outputs": [
        {
          "output_type": "stream",
          "text": [
            "enter the side of square : 3\n",
            "area of the square is :  9\n",
            "enter length : 4\n",
            "enter width : 2\n",
            "area of the rectangle is :  8\n",
            "enter the value of first side : 2\n",
            "enter the value of second side : 3\n",
            "enter the value of third side : 4\n",
            "area of triangle : 2.9047375096555625\n"
          ],
          "name": "stdout"
        }
      ]
    }
  ]
}