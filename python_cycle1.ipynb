{
  "nbformat": 4,
  "nbformat_minor": 0,
  "metadata": {
    "colab": {
      "name": "python_cycle1",
      "provenance": [],
      "collapsed_sections": [],
      "authorship_tag": "ABX9TyMqNb+rgfSgrGfQZIqkgKPA",
      "include_colab_link": true
    },
    "kernelspec": {
      "name": "python3",
      "display_name": "Python 3"
    }
  },
  "cells": [
    {
      "cell_type": "markdown",
      "metadata": {
        "id": "view-in-github",
        "colab_type": "text"
      },
      "source": [
        "<a href=\"https://colab.research.google.com/github/krishnaveni-7198/python/blob/main/python_cycle1.ipynb\" target=\"_parent\"><img src=\"https://colab.research.google.com/assets/colab-badge.svg\" alt=\"Open In Colab\"/></a>"
      ]
    },
    {
      "cell_type": "code",
      "metadata": {
        "colab": {
          "base_uri": "https://localhost:8080/"
        },
        "id": "qCN1c82egRuS",
        "outputId": "b3070f1e-2067-4478-a61f-0ff43ce8d98c"
      },
      "source": [
        "#print hello world\r\n",
        "\r\n",
        "print(\"HELLO WORLD\")"
      ],
      "execution_count": null,
      "outputs": [
        {
          "output_type": "stream",
          "text": [
            "HELLO WORLD\n"
          ],
          "name": "stdout"
        }
      ]
    },
    {
      "cell_type": "code",
      "metadata": {
        "colab": {
          "base_uri": "https://localhost:8080/"
        },
        "id": "kb-E0tGYfXR4",
        "outputId": "32b77857-d789-4810-ebd7-980689622e2f"
      },
      "source": [
        "#print an integer\r\n",
        "\r\n",
        "x=int(input(\"Enter the number : \"))\r\n",
        "print(x)"
      ],
      "execution_count": null,
      "outputs": [
        {
          "output_type": "stream",
          "text": [
            "Enter the number : 10\n",
            "10\n"
          ],
          "name": "stdout"
        }
      ]
    },
    {
      "cell_type": "code",
      "metadata": {
        "colab": {
          "base_uri": "https://localhost:8080/"
        },
        "id": "dqyqdcO5fWeP",
        "outputId": "f6bcddd7-a857-438b-edfa-0167c5ba1b2f"
      },
      "source": [
        "# add 2  integer\r\n",
        "\r\n",
        "x=int(input(\"enter first integer:\"))\r\n",
        "y=int(input(\"enter second integer:\"))\r\n",
        "print('sum : ',x+y)\r\n"
      ],
      "execution_count": null,
      "outputs": [
        {
          "output_type": "stream",
          "text": [
            "enter first integer:5\n",
            "enter second integer:9\n",
            "sum :  14\n"
          ],
          "name": "stdout"
        }
      ]
    },
    {
      "cell_type": "code",
      "metadata": {
        "colab": {
          "base_uri": "https://localhost:8080/"
        },
        "id": "Kz9FrVZqe9ok",
        "outputId": "c66d0066-ca65-4e86-e35b-b653f5d06c59"
      },
      "source": [
        "# multiply 2 float\r\n",
        "\r\n",
        "x=float(input(\"enter first number:\"))\r\n",
        "y=float(input(\"enter second number\"))\r\n",
        "print(\"product is : \",x*y)"
      ],
      "execution_count": null,
      "outputs": [
        {
          "output_type": "stream",
          "text": [
            "enter first number:3.0\n",
            "enter second number4.0\n",
            "product is :  12.0\n"
          ],
          "name": "stdout"
        }
      ]
    },
    {
      "cell_type": "code",
      "metadata": {
        "colab": {
          "base_uri": "https://localhost:8080/"
        },
        "id": "nBKatLBue46H",
        "outputId": "b71048ac-ec9c-477d-f274-0b278b653f72"
      },
      "source": [
        "# Quotient remainder\r\n",
        "\r\n",
        "x=int(input(\"enter first number:\"))\r\n",
        "y=int(input(\"enter second number:\"))\r\n",
        "print('Quotient : ',x//y)\r\n",
        "print('Remainder : ',x%y)"
      ],
      "execution_count": null,
      "outputs": [
        {
          "output_type": "stream",
          "text": [
            "enter first number:10\n",
            "enter second number:2\n",
            "Quotient :  5\n",
            "Remainder :  0\n"
          ],
          "name": "stdout"
        }
      ]
    },
    {
      "cell_type": "code",
      "metadata": {
        "colab": {
          "base_uri": "https://localhost:8080/"
        },
        "id": "IA73dmCJd521",
        "outputId": "84191520-c6e5-44de-a9a1-cd9978b35821"
      },
      "source": [
        "# swap 2 number\r\n",
        "\r\n",
        "x=int(input(\"enter first number:\"))\r\n",
        "y=int(input(\"enter second number:\"))\r\n",
        "print('the value of x before swapping : ',x)\r\n",
        "print('the value of y before swapping : ',y)\r\n",
        "temp=x\r\n",
        "x=y\r\n",
        "y=temp\r\n",
        "print('the value of x after swapping : ',x)\r\n",
        "print('the value of y after swapping : ',y)"
      ],
      "execution_count": null,
      "outputs": [
        {
          "output_type": "stream",
          "text": [
            "enter first number:1\n",
            "enter second number:9\n",
            "the value of x before swapping :  1\n",
            "the value of y before swapping :  9\n",
            "the value of x after swapping :  9\n",
            "the value of y after swapping :  1\n"
          ],
          "name": "stdout"
        }
      ]
    },
    {
      "cell_type": "code",
      "metadata": {
        "colab": {
          "base_uri": "https://localhost:8080/"
        },
        "id": "KQy6GDRAdzj_",
        "outputId": "763e3e4a-3a89-41cb-94ec-de3444a57b62"
      },
      "source": [
        "# odd even\r\n",
        "\r\n",
        "x=int(input(\"enter the number : \"))\r\n",
        "if(x%2==0):\r\n",
        " print(x,' is an even number')\r\n",
        "else:\r\n",
        " print(x,' is an odd number')"
      ],
      "execution_count": null,
      "outputs": [
        {
          "output_type": "stream",
          "text": [
            "enter the number : 4\n",
            "4  is an even number\n"
          ],
          "name": "stdout"
        }
      ]
    },
    {
      "cell_type": "code",
      "metadata": {
        "colab": {
          "base_uri": "https://localhost:8080/"
        },
        "id": "__eMHfvl_BOx",
        "outputId": "fea8a886-1e4c-4367-95b3-76e76a98be24"
      },
      "source": [
        "# vowel\r\n",
        "\r\n",
        "ch=input(\"Enter any character : \")\r\n",
        "if (ch=='A' or ch=='E' or ch=='I' or ch=='O' or ch=='U' or ch=='a' or ch=='e' or ch=='i' or ch=='o' or ch=='u'):\r\n",
        "  print(ch,' is a vowel')\r\n",
        "else:\r\n",
        "  print(ch,'is a consonant')"
      ],
      "execution_count": null,
      "outputs": [
        {
          "output_type": "stream",
          "text": [
            "Enter any character : E\n",
            "E  is a vowel\n"
          ],
          "name": "stdout"
        }
      ]
    },
    {
      "cell_type": "code",
      "metadata": {
        "colab": {
          "base_uri": "https://localhost:8080/"
        },
        "id": "sexZ6Se5A4nl",
        "outputId": "7693a7dc-8fab-41c2-d726-edf7f245785d"
      },
      "source": [
        "# largest among three\r\n",
        "\r\n",
        "a=float(input(\"Enter the first number : \"))\r\n",
        "b=float(input(\"Enter the second number : \"))\r\n",
        "c=float(input(\"Enter the third number : \"))\r\n",
        "if(a>b) and (a>c):\r\n",
        "  print(a,' is largest number')\r\n",
        "elif(b>a) and (b>c):\r\n",
        "  print(b,' is largest number')\r\n",
        "else:\r\n",
        "  print(c,' is largest number')"
      ],
      "execution_count": null,
      "outputs": [
        {
          "output_type": "stream",
          "text": [
            "Enter the first number : 7\n",
            "Enter the second number : 14\n",
            "Enter the third number : 10\n",
            "14.0  is largest number\n"
          ],
          "name": "stdout"
        }
      ]
    },
    {
      "cell_type": "code",
      "metadata": {
        "colab": {
          "base_uri": "https://localhost:8080/"
        },
        "id": "Z15sL1O9dlJ5",
        "outputId": "12cc8b89-84bf-4034-d801-e384804d869d"
      },
      "source": [
        "# leap year\r\n",
        "\r\n",
        "x=int(input(\"enter the year : \"))\r\n",
        "if(x%4==0):\r\n",
        "  print(x,' is a leap year')\r\n",
        "else:\r\n",
        "  print(x,' is not leap year')"
      ],
      "execution_count": null,
      "outputs": [
        {
          "output_type": "stream",
          "text": [
            "enter the year : 2020\n",
            "2020  is a leap year\n"
          ],
          "name": "stdout"
        }
      ]
    },
    {
      "cell_type": "code",
      "metadata": {
        "colab": {
          "base_uri": "https://localhost:8080/"
        },
        "id": "D5qrZ6tpdZCX",
        "outputId": "e749e2de-278c-4638-81d4-07ec36611375"
      },
      "source": [
        "# positive or negative\r\n",
        "\r\n",
        "x=int(input(\"enter the value : \"))\r\n",
        "if(x>=0):\r\n",
        "  print(x,'is positive integer')\r\n",
        "else:\r\n",
        "  print(x,'is negative integer')"
      ],
      "execution_count": null,
      "outputs": [
        {
          "output_type": "stream",
          "text": [
            "enter the value : -5\n",
            "-5 is negative integer\n"
          ],
          "name": "stdout"
        }
      ]
    },
    {
      "cell_type": "code",
      "metadata": {
        "colab": {
          "base_uri": "https://localhost:8080/"
        },
        "id": "TH9PpwSQD7-s",
        "outputId": "29a67ca5-0aa5-422a-e0f6-ec0a395d09ea"
      },
      "source": [
        "# sum of natural numbers\r\n",
        "\r\n",
        "n=int(input(\"Enter the limit:\"))\r\n",
        "while i <= n:\r\n",
        "    s = s + i\r\n",
        "    i = i+1\r\n",
        "print('sum is : ',s)"
      ],
      "execution_count": null,
      "outputs": [
        {
          "output_type": "stream",
          "text": [
            "Enter the limit:10\n",
            "sum is :  55\n"
          ],
          "name": "stdout"
        }
      ]
    },
    {
      "cell_type": "code",
      "metadata": {
        "colab": {
          "base_uri": "https://localhost:8080/"
        },
        "id": "K5S0JL2_U6WS",
        "outputId": "d070e44b-9343-4638-cb41-91630bb4fa49"
      },
      "source": [
        "# Factorial of a given number\r\n",
        "\r\n",
        "f=1\r\n",
        "i=1\r\n",
        "n=int(input(\"Enter the number:\"))\r\n",
        "while i <= n :\r\n",
        "  f *= i\r\n",
        "  i += 1\r\n",
        "print(\"factorial is :\",f)"
      ],
      "execution_count": null,
      "outputs": [
        {
          "output_type": "stream",
          "text": [
            "Enter the number:5\n",
            "factorial is : 120\n"
          ],
          "name": "stdout"
        }
      ]
    },
    {
      "cell_type": "code",
      "metadata": {
        "colab": {
          "base_uri": "https://localhost:8080/"
        },
        "id": "mKcrGl0aiHxA",
        "outputId": "89f234b8-8230-46de-d49a-52ad7229dad3"
      },
      "source": [
        "# Multiplication Table\r\n",
        "\r\n",
        "n=int(input(\"Enter the number:\"))\r\n",
        "for i in range(1,11):\r\n",
        "  print(i,'x',n,'=',n*i)"
      ],
      "execution_count": null,
      "outputs": [
        {
          "output_type": "stream",
          "text": [
            "Enter the number:10\n",
            "1 x 10 = 10\n",
            "2 x 10 = 20\n",
            "3 x 10 = 30\n",
            "4 x 10 = 40\n",
            "5 x 10 = 50\n",
            "6 x 10 = 60\n",
            "7 x 10 = 70\n",
            "8 x 10 = 80\n",
            "9 x 10 = 90\n",
            "10 x 10 = 100\n"
          ],
          "name": "stdout"
        }
      ]
    },
    {
      "cell_type": "code",
      "metadata": {
        "colab": {
          "base_uri": "https://localhost:8080/"
        },
        "id": "szZ1sXfXU_lt",
        "outputId": "7668ba60-feb7-4928-e3f8-9afba8a832ea"
      },
      "source": [
        "#Fibbonacci series\r\n",
        "\r\n",
        "f,s=0,1\r\n",
        "count=0\r\n",
        "n=int(input(\"Enter the Number of Terms : \"))\r\n",
        "if(n<=0):\r\n",
        "  print(\"Enter a positive number : \")\r\n",
        "elif(n==1):\r\n",
        "  print(\"fibonacci series upto\",n,\": \")\r\n",
        "  print(f)\r\n",
        "else:\r\n",
        "  print(\"fibonacci series : \")\r\n",
        "  while(count<n):\r\n",
        "    print(f)\r\n",
        "    t=f+s\r\n",
        "    f=s\r\n",
        "    s=t\r\n",
        "    count+=1"
      ],
      "execution_count": null,
      "outputs": [
        {
          "output_type": "stream",
          "text": [
            "Enter the Number of Terms : 10\n",
            "fibonacci series : \n",
            "0\n",
            "1\n",
            "1\n",
            "2\n",
            "3\n",
            "5\n",
            "8\n",
            "13\n",
            "21\n",
            "34\n"
          ],
          "name": "stdout"
        }
      ]
    },
    {
      "cell_type": "code",
      "metadata": {
        "colab": {
          "base_uri": "https://localhost:8080/"
        },
        "id": "TwNfZINwFW6W",
        "outputId": "af62fbad-4b65-4ad7-f1b0-077eeadeaac0"
      },
      "source": [
        "#lcm\r\n",
        "\r\n",
        "def find_lcm(x, y):\r\n",
        "   if x > y:\r\n",
        "       greater = x\r\n",
        "   else:\r\n",
        "       greater = y\r\n",
        "   while(True):\r\n",
        "       if((greater % x == 0) and (greater % y == 0)):\r\n",
        "           lcm = greater\r\n",
        "           break\r\n",
        "       greater += 1\r\n",
        "   return lcm\r\n",
        "a=int(input(\"enter the value of first number :\"))\r\n",
        "b=int(input(\"enter the value of second number :\"))\r\n",
        "print(\"the L.C.M. is\", find_lcm(a,b))\r\n"
      ],
      "execution_count": null,
      "outputs": [
        {
          "output_type": "stream",
          "text": [
            "enter the value of first number :54\n",
            "enter the value of second number :24\n",
            "the L.C.M. is 216\n"
          ],
          "name": "stdout"
        }
      ]
    },
    {
      "cell_type": "code",
      "metadata": {
        "id": "w_VwiWvwYgbz",
        "colab": {
          "base_uri": "https://localhost:8080/"
        },
        "outputId": "ce66ef3c-ceb1-4642-90e5-a3225e41c9df"
      },
      "source": [
        "#Number of digit in an given number\r\n",
        "\r\n",
        "count=0\r\n",
        "n=int(input(\"Enter the Number : \"))\r\n",
        "t=n\r\n",
        "while(n > 0):\r\n",
        "  count += 1\r\n",
        "  n=n//10\r\n",
        "print('Number of Digit in ',t,' is ',count)"
      ],
      "execution_count": null,
      "outputs": [
        {
          "output_type": "stream",
          "text": [
            "Enter the Number : 123\n",
            "Number of Digit in  123  is  3\n"
          ],
          "name": "stdout"
        }
      ]
    },
    {
      "cell_type": "code",
      "metadata": {
        "colab": {
          "base_uri": "https://localhost:8080/"
        },
        "id": "1huAmHGfsRx9",
        "outputId": "1351bfd5-3cb0-4e11-be9a-c08c21c66250"
      },
      "source": [
        "# Reverse of a number\r\n",
        "\r\n",
        "r=0\r\n",
        "n=int(input(\"Enter the Number : \"))\r\n",
        "t=n\r\n",
        "while(n > 0):\r\n",
        "  i = n%10\r\n",
        "  r = (r*10)+i\r\n",
        "  n = n//10\r\n",
        "print('the reverse of ',t,' is ',r)"
      ],
      "execution_count": null,
      "outputs": [
        {
          "output_type": "stream",
          "text": [
            "Enter the Number : 123\n",
            "the reverse of  123  is  321\n"
          ],
          "name": "stdout"
        }
      ]
    },
    {
      "cell_type": "code",
      "metadata": {
        "id": "7-WtGjwZtv6Z",
        "colab": {
          "base_uri": "https://localhost:8080/"
        },
        "outputId": "244113e6-7b93-4a36-c1c2-8f33fd947b92"
      },
      "source": [
        "#Power of a number\r\n",
        "\r\n",
        "n=int(input(\"Enter any positive number : \"))\r\n",
        "e=int(input(\"Enter the value of exponent : \"))\r\n",
        "p=1\r\n",
        "for i in range(1,e+1):\r\n",
        "  p=p*n\r\n",
        "print('the power of ',n,'^',e,' is ',p)"
      ],
      "execution_count": null,
      "outputs": [
        {
          "output_type": "stream",
          "text": [
            "Enter any positive number : 2\n",
            "Enter the value of exponent : 3\n",
            "the power of  2 ^ 3  is  8\n"
          ],
          "name": "stdout"
        }
      ]
    },
    {
      "cell_type": "code",
      "metadata": {
        "colab": {
          "base_uri": "https://localhost:8080/"
        },
        "id": "4HBxrXtD3Jro",
        "outputId": "3ba93edb-f109-4cf9-a956-a520f4f35c75"
      },
      "source": [
        "#Pallindrome\r\n",
        "\r\n",
        "n=int(input(\"Enter the number : \"))\r\n",
        "rev=0\r\n",
        "temp=n\r\n",
        "while(temp > 0):\r\n",
        "  r=temp%10\r\n",
        "  rev=(rev*10)+r\r\n",
        "  temp=temp//10\r\n",
        "print(\"Reverse of the given number is : \",rev)\r\n",
        "if(n==rev):\r\n",
        "  print(n,\" is a pallindrome number\")\r\n",
        "else:\r\n",
        "  print(n,\" is not a pallindrome number\")"
      ],
      "execution_count": null,
      "outputs": [
        {
          "output_type": "stream",
          "text": [
            "Enter the number : 1111\n",
            "Reverse of the given number is :  1111\n",
            "1111  is a pallindrome number\n"
          ],
          "name": "stdout"
        }
      ]
    }
  ]
}